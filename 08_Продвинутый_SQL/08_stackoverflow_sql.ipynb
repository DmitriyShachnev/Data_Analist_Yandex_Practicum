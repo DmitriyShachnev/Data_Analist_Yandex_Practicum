{
 "cells": [
  {
   "cell_type": "markdown",
   "id": "751eaeff",
   "metadata": {
    "toc": true
   },
   "source": [
    "<h1>Содержание проекта<span class=\"tocSkip\"></span></h1>\n",
    "<div class=\"toc\"><ul class=\"toc-item\"><li><span><a href=\"#Данные\" data-toc-modified-id=\"Данные-1\"><span class=\"toc-item-num\">1&nbsp;&nbsp;</span>Данные</a></span></li><li><span><a href=\"#Цель\" data-toc-modified-id=\"Цель-2\"><span class=\"toc-item-num\">2&nbsp;&nbsp;</span>Цель</a></span></li><li><span><a href=\"#Задания-Часть-1\" data-toc-modified-id=\"Задания-Часть-1-3\"><span class=\"toc-item-num\">3&nbsp;&nbsp;</span>Задания Часть 1</a></span><ul class=\"toc-item\"><li><span><a href=\"#Задание-1\" data-toc-modified-id=\"Задание-1-3.1\"><span class=\"toc-item-num\">3.1&nbsp;&nbsp;</span>Задание 1</a></span></li><li><span><a href=\"#Задание-2\" data-toc-modified-id=\"Задание-2-3.2\"><span class=\"toc-item-num\">3.2&nbsp;&nbsp;</span>Задание 2</a></span></li><li><span><a href=\"#Задание-3\" data-toc-modified-id=\"Задание-3-3.3\"><span class=\"toc-item-num\">3.3&nbsp;&nbsp;</span>Задание 3</a></span></li><li><span><a href=\"#Задание-4\" data-toc-modified-id=\"Задание-4-3.4\"><span class=\"toc-item-num\">3.4&nbsp;&nbsp;</span>Задание 4</a></span></li><li><span><a href=\"#Задание-5\" data-toc-modified-id=\"Задание-5-3.5\"><span class=\"toc-item-num\">3.5&nbsp;&nbsp;</span>Задание 5</a></span></li><li><span><a href=\"#Задание-6\" data-toc-modified-id=\"Задание-6-3.6\"><span class=\"toc-item-num\">3.6&nbsp;&nbsp;</span>Задание 6</a></span></li><li><span><a href=\"#Задание-7\" data-toc-modified-id=\"Задание-7-3.7\"><span class=\"toc-item-num\">3.7&nbsp;&nbsp;</span>Задание 7</a></span></li><li><span><a href=\"#Задание-8\" data-toc-modified-id=\"Задание-8-3.8\"><span class=\"toc-item-num\">3.8&nbsp;&nbsp;</span>Задание 8</a></span></li><li><span><a href=\"#Задание-9\" data-toc-modified-id=\"Задание-9-3.9\"><span class=\"toc-item-num\">3.9&nbsp;&nbsp;</span>Задание 9</a></span></li><li><span><a href=\"#Задание-10\" data-toc-modified-id=\"Задание-10-3.10\"><span class=\"toc-item-num\">3.10&nbsp;&nbsp;</span>Задание 10</a></span></li><li><span><a href=\"#Задание-11\" data-toc-modified-id=\"Задание-11-3.11\"><span class=\"toc-item-num\">3.11&nbsp;&nbsp;</span>Задание 11</a></span></li><li><span><a href=\"#Задание-12\" data-toc-modified-id=\"Задание-12-3.12\"><span class=\"toc-item-num\">3.12&nbsp;&nbsp;</span>Задание 12</a></span></li><li><span><a href=\"#Задание-13\" data-toc-modified-id=\"Задание-13-3.13\"><span class=\"toc-item-num\">3.13&nbsp;&nbsp;</span>Задание 13</a></span></li></ul></li><li><span><a href=\"#Задания-Часть-2\" data-toc-modified-id=\"Задания-Часть-2-4\"><span class=\"toc-item-num\">4&nbsp;&nbsp;</span>Задания Часть 2</a></span><ul class=\"toc-item\"><li><span><a href=\"#Задание-1\" data-toc-modified-id=\"Задание-1-4.1\"><span class=\"toc-item-num\">4.1&nbsp;&nbsp;</span>Задание 1</a></span></li><li><span><a href=\"#Задание-2\" data-toc-modified-id=\"Задание-2-4.2\"><span class=\"toc-item-num\">4.2&nbsp;&nbsp;</span>Задание 2</a></span></li><li><span><a href=\"#Задание-3\" data-toc-modified-id=\"Задание-3-4.3\"><span class=\"toc-item-num\">4.3&nbsp;&nbsp;</span>Задание 3</a></span></li><li><span><a href=\"#Задание-4\" data-toc-modified-id=\"Задание-4-4.4\"><span class=\"toc-item-num\">4.4&nbsp;&nbsp;</span>Задание 4</a></span></li><li><span><a href=\"#Задание-5\" data-toc-modified-id=\"Задание-5-4.5\"><span class=\"toc-item-num\">4.5&nbsp;&nbsp;</span>Задание 5</a></span></li><li><span><a href=\"#Задание-6\" data-toc-modified-id=\"Задание-6-4.6\"><span class=\"toc-item-num\">4.6&nbsp;&nbsp;</span>Задание 6</a></span></li><li><span><a href=\"#Задание-7\" data-toc-modified-id=\"Задание-7-4.7\"><span class=\"toc-item-num\">4.7&nbsp;&nbsp;</span>Задание 7</a></span></li></ul></li></ul></div>"
   ]
  },
  {
   "cell_type": "markdown",
   "id": "e7dfb797",
   "metadata": {},
   "source": [
    "# Исследование базы данных StackOverflow\n",
    "\n",
    "## Данные\n",
    "\n",
    "Самостоятельная работа основана на базе данных StackOverflow — сервиса вопросов и ответов о программировании. \n",
    "\n",
    "Мы будем работать с версией базы, где хранятся данные о постах за 2008 год, но в таблицах есть  информация и о более поздних оценках, которые эти посты получили.\n",
    "\n",
    "**Содержание таблиц**  \n",
    "**Таблица stackoverflow.badges**  \n",
    "Хранит информацию о значках, которые присуждаются за разные достижения. Например, пользователь, правильно ответивший на большое количество вопросов про PostgreSQL, может получить значок postgresql.   \n",
    "Описание полей:  \n",
    "Id - Идентификатор значка, первичный ключ таблицы  \n",
    "Name - Название значка  \n",
    "user_id - Идентификатор пользователя, которому присвоили значок, внешний ключ, отсылающий к таблице users  \n",
    "creation_date -  Дата присвоения значка  \n",
    "\n",
    "**Таблица stackoverflow.post_types**  \n",
    "Содержит информацию о типе постов. Их может быть два:  \n",
    "Question — пост с вопросом;  \n",
    "Answer — пост с ответом.  \n",
    "Описание полей:  \n",
    "Id - Идентификатор поста, первичный ключ таблицы  \n",
    "Type - Тип поста\n",
    "\n",
    "**Таблица stackoverflow.posts**  \n",
    "Содержит информацию о постах.  \n",
    "Описание полей:  \n",
    "Id - Идентификатор поста, первичный ключ таблицы  \n",
    "Title - Заголовок поста  \n",
    "creation_date - Дата создания поста  \n",
    "favorites_count\t - Число, которое показывает, сколько раз пост добавили в «Закладки»  \n",
    "last_activity_date - Дата последнего действия в посте, например комментария  \n",
    "last_edit_date - Дата последнего изменения поста  \n",
    "user_id - Идентификатор пользователя, который создал пост, внешний ключ к таблице users  \n",
    "parent_id - Если пост написали в ответ на другую публикацию, в это поле попадёт идентификатор поста с вопросом  \n",
    "post_type_id - Идентификатор типа поста, внешний ключ к таблице post_types  \n",
    "score - Количество очков, которое набрал пост  \n",
    "views_count - Количество просмотров  \n",
    "\n",
    "**Таблица stackoverflow.users**  \n",
    "Содержит информацию о пользователях.  \n",
    "Описание полей:   \n",
    "Id - Идентификатор пользователя, первичный ключ таблицы  \n",
    "creation_date - Дата регистрации пользователя  \n",
    "display_name - Имя пользователя  \n",
    "last_access_date - Дата последнего входа  \n",
    "location – Местоположение  \n",
    "reputation - Очки репутации, которые получают за хорошие вопросы и полезные ответы  \n",
    "views - Число просмотров профиля пользователя  \n",
    "\n",
    "**Таблица stackoverflow.vote_types**  \n",
    "Содержит информацию о типах голосов. Голос — это метка, которую пользователи ставят посту.   Типов бывает несколько:   \n",
    "UpMod — такую отметку получают посты с вопросами или ответами, которые пользователи посчитали уместными и полезными.  \n",
    "DownMod — такую отметку получают посты, которые показались пользователям наименее полезными.  \n",
    "Close — такую метку ставят опытные пользователи сервиса, если заданный вопрос нужно доработать или он вообще не подходит для платформы.  \n",
    "Offensive — такую метку могут поставить, если пользователь ответил на вопрос в грубой и оскорбительной манере, например, указав на неопытность автора поста.  \n",
    "Spam — такую метку ставят в случае, если пост пользователя выглядит откровенной рекламой.\n",
    "Описание полей:  \n",
    "Id - Идентификатор типа голоса, первичный ключ  \n",
    "name - Название метки  \n",
    "\n",
    "**Таблица stackoverflow.votes**   \n",
    "Содержит информацию о голосах за посты.   \n",
    "Описание полей:  \n",
    "Id - Идентификатор голоса, первичный ключ  \n",
    "post_id - Идентификатор поста, внешний ключ к таблице posts  \n",
    "user_id - Идентификатор пользователя, который поставил посту голос, внешний ключ к таблице users  \n",
    "bounty_amount - Сумма вознаграждения, которое назначают, чтобы привлечь внимание к посту  \n",
    "vote_type_id - Идентификатор типа голоса, внешний ключ к таблице vote_types  \n",
    "creation_date - Дата назначения голоса \n",
    "\n",
    "## Цель\n",
    "Проект состоит из двух частей:\n",
    "В первой части несколько задач в SQL-тренажёре, чтобы закрепить пройденный материал.\n",
    "Вторая часть проекта — аналитическая.  \n",
    "\n",
    "## Задания Часть 1"
   ]
  },
  {
   "cell_type": "markdown",
   "id": "59954027",
   "metadata": {},
   "source": [
    "### Задание 1\n",
    "Найдите количество вопросов, которые набрали больше 300 очков или как минимум 100 раз были добавлены в «Закладки»."
   ]
  },
  {
   "cell_type": "code",
   "execution_count": null,
   "id": "b94affd3",
   "metadata": {},
   "outputs": [],
   "source": [
    "'''\n",
    "SELECT COUNT(p.id)\n",
    "FROM stackoverflow.posts AS p --# добавьте название таблицы и условие\n",
    "JOIN stackoverflow.post_types AS pt ON p.post_type_id = pt.id\n",
    "WHERE pt.type = 'Question' AND (p.score > 300 OR p.favorites_count >=100)\n",
    "'''"
   ]
  },
  {
   "cell_type": "markdown",
   "id": "a8f6be8b",
   "metadata": {},
   "source": [
    "### Задание 2\n",
    "Сколько в среднем в день задавали вопросов с 1 по 18 ноября 2008 включительно? Результат округлите до целого числа."
   ]
  },
  {
   "cell_type": "code",
   "execution_count": null,
   "id": "702093b1",
   "metadata": {},
   "outputs": [],
   "source": [
    "'''\n",
    "WITH questions AS\n",
    "(SELECT p.creation_date::date AS date_question,\n",
    "        COUNT(DISTINCT p.id) AS count_question\n",
    "FROM stackoverflow.posts AS p --# добавьте название таблицы и условие\n",
    "JOIN stackoverflow.post_types AS pt ON p.post_type_id = pt.id\n",
    "WHERE pt.type = 'Question' AND p.creation_date::date BETWEEN '2008-11-01' AND '2008-11-18'\n",
    "GROUP BY date_question)\n",
    "\n",
    "SELECT ROUND(AVG(count_question), 0)\n",
    "FROM questions\n",
    "'''"
   ]
  },
  {
   "cell_type": "markdown",
   "id": "81e05df1",
   "metadata": {},
   "source": [
    "### Задание 3\n",
    "Сколько пользователей получили значки сразу в день регистрации? Выведите количество уникальных пользователей."
   ]
  },
  {
   "cell_type": "code",
   "execution_count": null,
   "id": "0f111021",
   "metadata": {},
   "outputs": [],
   "source": [
    "'''\n",
    "SELECT COUNT(DISTINCT u.id)\n",
    "FROM stackoverflow.users AS u\n",
    "JOIN stackoverflow.badges AS b ON u.id = b.user_id\n",
    "WHERE u.creation_date::date = b.creation_date::date\n",
    "'''"
   ]
  },
  {
   "cell_type": "markdown",
   "id": "cf0bd78d",
   "metadata": {},
   "source": [
    "### Задание 4\n",
    "Сколько уникальных постов пользователя с именем Joel Coehoorn получили хотя бы один голос?"
   ]
  },
  {
   "cell_type": "code",
   "execution_count": null,
   "id": "a16e6be9",
   "metadata": {},
   "outputs": [],
   "source": [
    "'''\n",
    "WITH users_posts AS \n",
    "(SELECT DISTINCT p.id AS post,\n",
    "        COUNT(v.id) AS vote_count\n",
    "FROM stackoverflow.users AS u\n",
    "JOIN stackoverflow.posts AS p ON u.id = p.user_id\n",
    "JOIN stackoverflow.votes AS v ON p.id = v.post_id\n",
    "WHERE u.display_name = 'Joel Coehoorn'\n",
    "GROUP BY post)\n",
    "\n",
    "SELECT COUNT(post)\n",
    "FROM users_posts\n",
    "WHERE vote_count > 0\n",
    "'''"
   ]
  },
  {
   "cell_type": "markdown",
   "id": "d8b64c72",
   "metadata": {},
   "source": [
    "### Задание 5\n",
    "Выгрузите все поля таблицы vote_types. Добавьте к таблице поле rank, в которое войдут номера записей в обратном порядке.  \n",
    "Таблица должна быть отсортирована по полю id."
   ]
  },
  {
   "cell_type": "code",
   "execution_count": null,
   "id": "7d7ab6da",
   "metadata": {},
   "outputs": [],
   "source": [
    "'''\n",
    "SELECT *,\n",
    "       RANK() OVER (ORDER BY id DESC) AS rank\n",
    "FROM stackoverflow.vote_types\n",
    "ORDER BY id\n",
    "'''"
   ]
  },
  {
   "cell_type": "markdown",
   "id": "098bd9bc",
   "metadata": {},
   "source": [
    "### Задание 6\n",
    "Отберите 10 пользователей, которые поставили больше всего голосов типа Close.  \n",
    "Отобразите таблицу из двух полей: идентификатором пользователя и количеством голосов.  \n",
    "Отсортируйте данные сначала по убыванию количества голосов, потом по убыванию значения идентификатора пользователя."
   ]
  },
  {
   "cell_type": "code",
   "execution_count": null,
   "id": "68cc6d9d",
   "metadata": {},
   "outputs": [],
   "source": [
    "'''\n",
    "SELECT DISTINCT v.user_id AS user_v,\n",
    "       COUNT(v.id) AS vote_count\n",
    "FROM stackoverflow.votes AS v\n",
    "JOIN stackoverflow.vote_types AS vt ON v.vote_type_id = vt.id\n",
    "WHERE vt.name = 'Close'\n",
    "GROUP BY user_v\n",
    "ORDER BY vote_count DESC, user_v DESC\n",
    "LIMIT 10\n",
    "'''"
   ]
  },
  {
   "cell_type": "markdown",
   "id": "2bc03b24",
   "metadata": {},
   "source": [
    "### Задание 7\n",
    "Отберите 10 пользователей по количеству значков, полученных в период с 15 ноября по 15 декабря 2008 года включительно.  \n",
    "Отобразите несколько полей:  \n",
    "идентификатор пользователя;  \n",
    "число значков;  \n",
    "место в рейтинге — чем больше значков, тем выше рейтинг.  \n",
    "Пользователям, которые набрали одинаковое количество значков, присвойте одно и то же место в рейтинге.  \n",
    "Отсортируйте записи по количеству значков по убыванию, а затем по возрастанию значения идентификатора пользователя."
   ]
  },
  {
   "cell_type": "code",
   "execution_count": null,
   "id": "cc9a8a1c",
   "metadata": {},
   "outputs": [],
   "source": [
    "'''\n",
    "SELECT DISTINCT user_id,\n",
    "       COUNT(id) AS badges_count,\n",
    "       DENSE_RANK() OVER (ORDER BY COUNT(id) DESC) AS rank\n",
    "FROM stackoverflow.badges\n",
    "WHERE creation_date::date BETWEEN '2008-11-15' AND '2008-12-15'\n",
    "GROUP BY user_id\n",
    "ORDER BY badges_count DESC, user_id\n",
    "LIMIT 10\n",
    "'''"
   ]
  },
  {
   "cell_type": "markdown",
   "id": "3790cb78",
   "metadata": {},
   "source": [
    "### Задание 8\n",
    "Сколько в среднем очков получает пост каждого пользователя?  \n",
    "Сформируйте таблицу из следующих полей:  \n",
    "- заголовок поста;  \n",
    "- идентификатор пользователя;  \n",
    "- число очков поста;  \n",
    "- среднее число очков пользователя за пост, округлённое до целого числа.  \n",
    "\n",
    "Не учитывайте посты без заголовка, а также те, что набрали ноль очков."
   ]
  },
  {
   "cell_type": "code",
   "execution_count": null,
   "id": "2e2cd852",
   "metadata": {},
   "outputs": [],
   "source": [
    "'''\n",
    "SELECT title AS post_title,\n",
    "       user_id AS post_user_id,\n",
    "       score AS post_score,\n",
    "       ROUND(AVG(score) OVER (PARTITION BY user_id))\n",
    "FROM stackoverflow.posts\n",
    "WHERE title != '' AND score != 0 \n",
    "'''"
   ]
  },
  {
   "cell_type": "markdown",
   "id": "b0d85ee6",
   "metadata": {},
   "source": [
    "### Задание 9\n",
    "Отобразите заголовки постов, которые были написаны пользователями, получившими более 1000 значков.  \n",
    "Посты без заголовков не должны попасть в список."
   ]
  },
  {
   "cell_type": "code",
   "execution_count": null,
   "id": "51df210a",
   "metadata": {},
   "outputs": [],
   "source": [
    "'''\n",
    "WITH users_badges_1000 AS\n",
    "(SELECT DISTINCT(user_id),\n",
    "        COUNT(id) AS badges_count\n",
    "FROM stackoverflow.badges\n",
    "GROUP BY user_id)\n",
    "\n",
    "SELECT p.title AS post_title\n",
    "FROM stackoverflow.posts AS p\n",
    "JOIN users_badges_1000 AS ub ON ub.user_id = p.user_id\n",
    "WHERE badges_count >=1000 AND p.title !=''\n",
    "'''"
   ]
  },
  {
   "cell_type": "markdown",
   "id": "be802a48",
   "metadata": {},
   "source": [
    "### Задание 10\n",
    "Напишите запрос, который выгрузит данные о пользователях из США (англ. United States).  \n",
    "Разделите пользователей на три группы в зависимости от количества просмотров их профилей:  \n",
    "- пользователям с числом просмотров больше либо равным 350 присвойте группу 1;  \n",
    "- пользователям с числом просмотров меньше 350, но больше либо равно 100 — группу 2;  \n",
    "- пользователям с числом просмотров меньше 100 — группу 3.  \n",
    "\n",
    "Отобразите в итоговой таблице идентификатор пользователя, количество просмотров профиля и группу.  \n",
    "Пользователи с нулевым количеством просмотров не должны войти в итоговую таблицу."
   ]
  },
  {
   "cell_type": "code",
   "execution_count": null,
   "id": "f18c3b97",
   "metadata": {},
   "outputs": [],
   "source": [
    "'''\n",
    "SELECT DISTINCT id,\n",
    "       views AS prifile_views,\n",
    "       CASE\n",
    "           WHEN views >=350 THEN 1\n",
    "           WHEN views >= 100 AND views < 350 THEN 2\n",
    "           WHEN views <100 THEN 3\n",
    "       END\n",
    "FROM stackoverflow.users\n",
    "WHERE location LIKE '%Unit%Stat%' AND views > 0\n",
    "'''"
   ]
  },
  {
   "cell_type": "markdown",
   "id": "b60727c0",
   "metadata": {},
   "source": [
    "### Задание 11\n",
    "Дополните предыдущий запрос. Отобразите лидеров каждой группы — пользователей, которые набрали максимальное число просмотров в своей группе.  \n",
    "Выведите поля с идентификатором пользователя, группой и количеством просмотров.  \n",
    "Отсортируйте таблицу по убыванию просмотров, а затем по возрастанию значения идентификатора."
   ]
  },
  {
   "cell_type": "code",
   "execution_count": null,
   "id": "ae6ceb83",
   "metadata": {},
   "outputs": [],
   "source": [
    "'''\n",
    "WITH users_group AS\n",
    "(SELECT DISTINCT id AS user_id,\n",
    "       views AS profile_views,\n",
    "       CASE\n",
    "           WHEN views >=350 THEN 1\n",
    "           WHEN views >= 100 AND views < 350 THEN 2\n",
    "           WHEN views <100 THEN 3\n",
    "       END AS user_group\n",
    "FROM stackoverflow.users\n",
    "WHERE location LIKE '%Unit%Stat%' AND views > 0),\n",
    "\n",
    "users_group_max AS\n",
    "(SELECT user_id,\n",
    "       user_group,\n",
    "       profile_views,\n",
    "       MAX(profile_views) OVER (PARTITION BY user_group ORDER BY profile_views DESC) AS profile_views_max\n",
    "FROM users_group)\n",
    "\n",
    "SELECT user_id,\n",
    "       user_group,\n",
    "       profile_views\n",
    "FROM users_group_max\n",
    "WHERE profile_views = profile_views_max\n",
    "ORDER BY profile_views DESC, user_id\n",
    "'''"
   ]
  },
  {
   "cell_type": "markdown",
   "id": "6c35823a",
   "metadata": {},
   "source": [
    "### Задание 12\n",
    "Посчитайте ежедневный прирост новых пользователей в ноябре 2008 года. Сформируйте таблицу с полями:  \n",
    "- номер дня;  \n",
    "- число пользователей, зарегистрированных в этот день;  \n",
    "- сумму пользователей с накоплением."
   ]
  },
  {
   "cell_type": "code",
   "execution_count": null,
   "id": "0393d279",
   "metadata": {},
   "outputs": [],
   "source": [
    "'''\n",
    "WITH users_creation AS\n",
    "(SELECT EXTRACT(DAY FROM creation_date) AS creation_day,\n",
    "       COUNT(DISTINCT id) AS users_count\n",
    "FROM stackoverflow.users\n",
    "WHERE creation_date::date BETWEEN '2008-11-01' AND '2008-11-30'\n",
    "GROUP BY creation_day)\n",
    "\n",
    "SELECT creation_day,\n",
    "       users_count,\n",
    "       SUM(users_count) OVER (ORDER BY creation_day) AS V_cum\n",
    "FROM users_creation\n",
    "'''"
   ]
  },
  {
   "cell_type": "markdown",
   "id": "7f24772a",
   "metadata": {},
   "source": [
    "### Задание 13\n",
    "Для каждого пользователя, который написал хотя бы один пост, найдите интервал между регистрацией и временем создания первого поста.  \n",
    "Отобразите:  \n",
    "- идентификатор пользователя;  \n",
    "- разницу во времени между регистрацией и первым постом."
   ]
  },
  {
   "cell_type": "code",
   "execution_count": null,
   "id": "ffa11404",
   "metadata": {},
   "outputs": [],
   "source": [
    "'''\n",
    "SELECT DISTINCT p.user_id AS user_post,\n",
    "       MIN(p.creation_date) OVER (PARTITION BY p.user_id) - u.creation_date AS difference_time\n",
    "FROM stackoverflow.users AS u\n",
    "JOIN stackoverflow.posts AS p ON u.id = p.user_id\n",
    "'''"
   ]
  },
  {
   "cell_type": "markdown",
   "id": "4f6b6ae1",
   "metadata": {},
   "source": [
    "## Задания Часть 2 \n",
    "\n",
    "### Задание 1\n",
    "Выведите общую сумму просмотров постов за каждый месяц 2008 года. Если данных за какой-либо месяц в базе нет, такой месяц можно пропустить.  \n",
    "Результат отсортируйте по убыванию общего количества просмотров."
   ]
  },
  {
   "cell_type": "code",
   "execution_count": null,
   "id": "28436dac",
   "metadata": {},
   "outputs": [],
   "source": [
    "'''\n",
    "SELECT DATE_TRUNC('month', creation_date)::date AS post_creation_date,\n",
    "       SUM(views_count) AS post_views_count\n",
    "FROM stackoverflow.posts\n",
    "WHERE creation_date::date BETWEEN '2008-01-01' AND '2008-12-31'\n",
    "GROUP BY post_creation_date\n",
    "ORDER BY post_views_count DESC\n",
    "'''"
   ]
  },
  {
   "cell_type": "markdown",
   "id": "7e9f5525",
   "metadata": {},
   "source": [
    "### Задание 2\n",
    "Выведите имена самых активных пользователей, которые в первый месяц после регистрации (включая день регистрации) дали больше 100 ответов.  \n",
    "Вопросы, которые задавали пользователи, не учитывайте. Для каждого имени пользователя выведите количество уникальных значений user_id.  \n",
    "Отсортируйте результат по полю с именами в лексикографическом порядке."
   ]
  },
  {
   "cell_type": "code",
   "execution_count": null,
   "id": "0e9e7d79",
   "metadata": {},
   "outputs": [],
   "source": [
    "'''\n",
    "SELECT DISTINCT u.display_name AS users_name,\n",
    "       COUNT (DISTINCT p.user_id) AS user_id_count\n",
    "FROM stackoverflow.users AS u\n",
    "JOIN stackoverflow.posts AS p ON u.id = p.user_id\n",
    "JOIN stackoverflow.post_types AS pt ON p.post_type_id = pt.id\n",
    "WHERE (p.creation_date::date BETWEEN u.creation_date::date AND u.creation_date::date + INTERVAL '1 month') AND (pt.type = 'Answer')\n",
    "GROUP BY users_name\n",
    "HAVING COUNT(p.id) >100\n",
    "'''"
   ]
  },
  {
   "cell_type": "markdown",
   "id": "271ce2e8",
   "metadata": {},
   "source": [
    "### Задание 3\n",
    "Выведите количество постов за 2008 год по месяцам.  \n",
    "Отберите посты от пользователей, которые зарегистрировались в сентябре 2008 года и сделали хотя бы один пост в декабре того же года.  \n",
    "Отсортируйте таблицу по значению месяца по убыванию."
   ]
  },
  {
   "cell_type": "code",
   "execution_count": null,
   "id": "119fd9fc",
   "metadata": {},
   "outputs": [],
   "source": [
    "'''\n",
    "WITH posts_users AS\n",
    "(SELECT DISTINCT p.user_id AS post_user_id\n",
    "FROM stackoverflow.posts AS p\n",
    "JOIN stackoverflow.users AS u ON p.user_id = u.id\n",
    "WHERE (u.creation_date::date BETWEEN '2008-09-01' AND '2008-09-30') AND \n",
    "      (p.creation_date::date BETWEEN '2008-12-01' AND '2008-12-31')\n",
    " )     \n",
    "SELECT DATE_TRUNC('month', creation_date)::date AS posts_creation_date,\n",
    "       COUNT(DISTINCT id) AS posts_count   \n",
    "FROM stackoverflow.posts AS p\n",
    "JOIN posts_users AS pu ON p.user_id = pu.post_user_id\n",
    "GROUP BY posts_creation_date\n",
    "ORDER BY posts_creation_date DESC\n",
    "'''"
   ]
  },
  {
   "cell_type": "markdown",
   "id": "27c99c65",
   "metadata": {},
   "source": [
    "### Задание 4\n",
    "Используя данные о постах, выведите несколько полей:   \n",
    "- идентификатор пользователя, который написал пост;  \n",
    "- дата создания поста;  \n",
    "- количество просмотров у текущего поста;  \n",
    "- сумму просмотров постов автора с накоплением.  \n",
    "\n",
    "Данные в таблице должны быть отсортированы по возрастанию идентификаторов пользователей, а данные об одном и том же пользователе — по возрастанию даты создания поста."
   ]
  },
  {
   "cell_type": "code",
   "execution_count": null,
   "id": "1a105100",
   "metadata": {},
   "outputs": [],
   "source": [
    "'''\n",
    "SELECT user_id,\n",
    "       creation_date AS post_creation_date,\n",
    "       views_count,\n",
    "       SUM(views_count) OVER (PARTITION BY user_id ORDER BY creation_date) AS views_count_cum\n",
    "FROM stackoverflow.posts\n",
    "ORDER BY user_id, post_creation_date\n",
    "'''"
   ]
  },
  {
   "cell_type": "markdown",
   "id": "2ec8fdb0",
   "metadata": {},
   "source": [
    "### Задание 5\n",
    "Сколько в среднем дней в период с 1 по 7 декабря 2008 года включительно пользователи взаимодействовали с платформой?  \n",
    "Для каждого пользователя отберите дни, в которые он или она опубликовали хотя бы один пост. Нужно получить одно целое число.\n",
    "\n"
   ]
  },
  {
   "cell_type": "code",
   "execution_count": null,
   "id": "37b0f227",
   "metadata": {},
   "outputs": [],
   "source": [
    "'''\n",
    "WITH post_activity AS\n",
    "(SELECT user_id,\n",
    "       COUNT(DISTINCT creation_date::date) AS activity_days\n",
    "FROM stackoverflow.posts\n",
    "WHERE creation_date::date BETWEEN '2008-12-01' AND '2008-12-07' \n",
    "GROUP BY user_id)\n",
    "\n",
    "SELECT ROUND(AVG(activity_days))\n",
    "FROM post_activity\n",
    "'''"
   ]
  },
  {
   "cell_type": "markdown",
   "id": "10163198",
   "metadata": {},
   "source": [
    "### Задание 6\n",
    "На сколько процентов менялось количество постов ежемесячно с 1 сентября по 31 декабря 2008 года?   \n",
    "Отобразите таблицу со следующими полями:  \n",
    "- номер месяца;  \n",
    "- количество постов за месяц;  \n",
    "- процент, который показывает, насколько изменилось количество постов в текущем месяце по сравнению с предыдущим.  \n",
    "\n",
    "Если постов стало меньше, значение процента должно быть отрицательным, если больше — положительным. Округлите значение процента до двух знаков после запятой.  \n",
    "Напомним, что при делении одного целого числа на другое в PostgreSQL в результате получится целое число, округлённое до ближайшего целого вниз. Чтобы этого избежать, переведите делимое в тип numeric."
   ]
  },
  {
   "cell_type": "code",
   "execution_count": null,
   "id": "b8048bc6",
   "metadata": {},
   "outputs": [],
   "source": [
    "'''\n",
    "WITH posts_count_month AS\n",
    "(SELECT EXTRACT(MONTH FROM creation_date::date) AS month_num,\n",
    "       COUNT(id) AS posts_count,  \n",
    "       LAG(COUNT(id)) OVER () AS previous_posts_count\n",
    "FROM stackoverflow.posts\n",
    "WHERE creation_date::date BETWEEN '2008-09-01' AND '2008-12-31' \n",
    "GROUP BY month_num\n",
    "ORDER BY month_num)\n",
    "\n",
    "SELECT month_num,\n",
    "       posts_count,  \n",
    "       ROUND((posts_count::numeric - previous_posts_count)/previous_posts_count * 100, 2)\n",
    "FROM posts_count_month\n",
    "'''"
   ]
  },
  {
   "cell_type": "markdown",
   "id": "8e8f16e5",
   "metadata": {},
   "source": [
    "### Задание 7\n",
    "Выгрузите данные активности пользователя, который опубликовал больше всего постов за всё время.  \n",
    "Выведите данные за октябрь 2008 года в таком виде:  \n",
    "- номер недели;  \n",
    "- дата и время последнего поста, опубликованного на этой неделе."
   ]
  },
  {
   "cell_type": "code",
   "execution_count": null,
   "id": "841d160e",
   "metadata": {},
   "outputs": [],
   "source": [
    "'''\n",
    "WITH posts_count_max AS\n",
    "(SELECT user_id AS user_id_max,\n",
    "        COUNT(id) AS posts_count\n",
    "FROM stackoverflow.posts\n",
    "GROUP BY user_id\n",
    "ORDER BY posts_count DESC\n",
    "LIMIT 1),\n",
    "\n",
    "posts_creation_date AS\n",
    "(SELECT creation_date,\n",
    "       EXTRACT(WEEK FROM creation_date::date) AS week_num  \n",
    "FROM stackoverflow.posts AS p\n",
    "JOIN posts_count_max AS pm ON p.user_id = pm.user_id_max\n",
    "WHERE (creation_date::date BETWEEN '2008-10-01' AND '2008-10-31') AND user_id = user_id_max)\n",
    "\n",
    "SELECT DISTINCT week_num,\n",
    "       MAX(creation_date) OVER (ORDER BY week_num) AS max_creation_date\n",
    "FROM posts_creation_date\n",
    "'''"
   ]
  }
 ],
 "metadata": {
  "kernelspec": {
   "display_name": "Python 3 (ipykernel)",
   "language": "python",
   "name": "python3"
  },
  "language_info": {
   "codemirror_mode": {
    "name": "ipython",
    "version": 3
   },
   "file_extension": ".py",
   "mimetype": "text/x-python",
   "name": "python",
   "nbconvert_exporter": "python",
   "pygments_lexer": "ipython3",
   "version": "3.9.13"
  },
  "toc": {
   "base_numbering": 1,
   "nav_menu": {},
   "number_sections": true,
   "sideBar": true,
   "skip_h1_title": true,
   "title_cell": "Table of Contents",
   "title_sidebar": "Contents",
   "toc_cell": true,
   "toc_position": {},
   "toc_section_display": true,
   "toc_window_display": false
  }
 },
 "nbformat": 4,
 "nbformat_minor": 5
}
